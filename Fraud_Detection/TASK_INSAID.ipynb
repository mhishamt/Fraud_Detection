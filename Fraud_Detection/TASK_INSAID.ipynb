{
 "cells": [
  {
   "cell_type": "markdown",
   "id": "c5911c6b",
   "metadata": {},
   "source": [
    "### TASK_INSAID"
   ]
  },
  {
   "cell_type": "markdown",
   "id": "f3692b07",
   "metadata": {},
   "source": [
    "1. Data cleaning including missing values, outliers and multi-collinearity. "
   ]
  },
  {
   "cell_type": "code",
   "execution_count": 46,
   "id": "154aafac",
   "metadata": {},
   "outputs": [],
   "source": [
    "# Import necessary libraries\n",
    "import pandas as pd\n",
    "import numpy as np\n",
    "from sklearn.preprocessing import StandardScaler\n",
    "from statsmodels.stats.outliers_influence import variance_inflation_factor\n",
    "\n",
    "# Load the dataset\n",
    "df = pd.read_csv(\"C:/Users/DELL/Downloads/Fraud.csv\")\n"
   ]
  },
  {
   "cell_type": "code",
   "execution_count": 47,
   "id": "83098c14",
   "metadata": {},
   "outputs": [
    {
     "data": {
      "text/html": [
       "<div>\n",
       "<style scoped>\n",
       "    .dataframe tbody tr th:only-of-type {\n",
       "        vertical-align: middle;\n",
       "    }\n",
       "\n",
       "    .dataframe tbody tr th {\n",
       "        vertical-align: top;\n",
       "    }\n",
       "\n",
       "    .dataframe thead th {\n",
       "        text-align: right;\n",
       "    }\n",
       "</style>\n",
       "<table border=\"1\" class=\"dataframe\">\n",
       "  <thead>\n",
       "    <tr style=\"text-align: right;\">\n",
       "      <th></th>\n",
       "      <th>step</th>\n",
       "      <th>type</th>\n",
       "      <th>amount</th>\n",
       "      <th>nameOrig</th>\n",
       "      <th>oldbalanceOrg</th>\n",
       "      <th>newbalanceOrig</th>\n",
       "      <th>nameDest</th>\n",
       "      <th>oldbalanceDest</th>\n",
       "      <th>newbalanceDest</th>\n",
       "      <th>isFraud</th>\n",
       "      <th>isFlaggedFraud</th>\n",
       "    </tr>\n",
       "  </thead>\n",
       "  <tbody>\n",
       "    <tr>\n",
       "      <th>0</th>\n",
       "      <td>1</td>\n",
       "      <td>PAYMENT</td>\n",
       "      <td>9839.64</td>\n",
       "      <td>C1231006815</td>\n",
       "      <td>170136.0</td>\n",
       "      <td>160296.36</td>\n",
       "      <td>M1979787155</td>\n",
       "      <td>0.0</td>\n",
       "      <td>0.0</td>\n",
       "      <td>0</td>\n",
       "      <td>0</td>\n",
       "    </tr>\n",
       "    <tr>\n",
       "      <th>1</th>\n",
       "      <td>1</td>\n",
       "      <td>PAYMENT</td>\n",
       "      <td>1864.28</td>\n",
       "      <td>C1666544295</td>\n",
       "      <td>21249.0</td>\n",
       "      <td>19384.72</td>\n",
       "      <td>M2044282225</td>\n",
       "      <td>0.0</td>\n",
       "      <td>0.0</td>\n",
       "      <td>0</td>\n",
       "      <td>0</td>\n",
       "    </tr>\n",
       "    <tr>\n",
       "      <th>2</th>\n",
       "      <td>1</td>\n",
       "      <td>TRANSFER</td>\n",
       "      <td>181.00</td>\n",
       "      <td>C1305486145</td>\n",
       "      <td>181.0</td>\n",
       "      <td>0.00</td>\n",
       "      <td>C553264065</td>\n",
       "      <td>0.0</td>\n",
       "      <td>0.0</td>\n",
       "      <td>1</td>\n",
       "      <td>0</td>\n",
       "    </tr>\n",
       "    <tr>\n",
       "      <th>3</th>\n",
       "      <td>1</td>\n",
       "      <td>CASH_OUT</td>\n",
       "      <td>181.00</td>\n",
       "      <td>C840083671</td>\n",
       "      <td>181.0</td>\n",
       "      <td>0.00</td>\n",
       "      <td>C38997010</td>\n",
       "      <td>21182.0</td>\n",
       "      <td>0.0</td>\n",
       "      <td>1</td>\n",
       "      <td>0</td>\n",
       "    </tr>\n",
       "    <tr>\n",
       "      <th>4</th>\n",
       "      <td>1</td>\n",
       "      <td>PAYMENT</td>\n",
       "      <td>11668.14</td>\n",
       "      <td>C2048537720</td>\n",
       "      <td>41554.0</td>\n",
       "      <td>29885.86</td>\n",
       "      <td>M1230701703</td>\n",
       "      <td>0.0</td>\n",
       "      <td>0.0</td>\n",
       "      <td>0</td>\n",
       "      <td>0</td>\n",
       "    </tr>\n",
       "  </tbody>\n",
       "</table>\n",
       "</div>"
      ],
      "text/plain": [
       "   step      type    amount     nameOrig  oldbalanceOrg  newbalanceOrig  \\\n",
       "0     1   PAYMENT   9839.64  C1231006815       170136.0       160296.36   \n",
       "1     1   PAYMENT   1864.28  C1666544295        21249.0        19384.72   \n",
       "2     1  TRANSFER    181.00  C1305486145          181.0            0.00   \n",
       "3     1  CASH_OUT    181.00   C840083671          181.0            0.00   \n",
       "4     1   PAYMENT  11668.14  C2048537720        41554.0        29885.86   \n",
       "\n",
       "      nameDest  oldbalanceDest  newbalanceDest  isFraud  isFlaggedFraud  \n",
       "0  M1979787155             0.0             0.0        0               0  \n",
       "1  M2044282225             0.0             0.0        0               0  \n",
       "2   C553264065             0.0             0.0        1               0  \n",
       "3    C38997010         21182.0             0.0        1               0  \n",
       "4  M1230701703             0.0             0.0        0               0  "
      ]
     },
     "execution_count": 47,
     "metadata": {},
     "output_type": "execute_result"
    }
   ],
   "source": [
    "df.head()"
   ]
  },
  {
   "cell_type": "code",
   "execution_count": 48,
   "id": "bc6b3f54",
   "metadata": {},
   "outputs": [],
   "source": [
    "\n",
    "columns_to_drop = ['nameOrig','nameDest']\n",
    "df.drop(columns_to_drop, axis=1, inplace=True)"
   ]
  },
  {
   "cell_type": "code",
   "execution_count": 51,
   "id": "1513bb0b",
   "metadata": {},
   "outputs": [
    {
     "name": "stdout",
     "output_type": "stream",
     "text": [
      "Missing values in the dataset:\n",
      "step              0\n",
      "type              0\n",
      "amount            0\n",
      "oldbalanceOrg     0\n",
      "newbalanceOrig    0\n",
      "oldbalanceDest    0\n",
      "newbalanceDest    0\n",
      "isFraud           0\n",
      "isFlaggedFraud    0\n",
      "dtype: int64\n"
     ]
    }
   ],
   "source": [
    "# Check for missing values\n",
    "print('Missing values in the dataset:')\n",
    "print(df.isnull().sum())\n"
   ]
  },
  {
   "cell_type": "code",
   "execution_count": 53,
   "id": "e426e25b",
   "metadata": {},
   "outputs": [],
   "source": [
    "# Remove missing values\n",
    "df.dropna(inplace=True)"
   ]
  },
  {
   "cell_type": "code",
   "execution_count": 54,
   "id": "f7fc9b2b",
   "metadata": {},
   "outputs": [
    {
     "name": "stderr",
     "output_type": "stream",
     "text": [
      "C:\\Users\\DELL\\AppData\\Local\\Temp\\ipykernel_42796\\840714081.py:5: FutureWarning: Automatic reindexing on DataFrame vs Series comparisons is deprecated and will raise ValueError in a future version. Do `left, right = left.align(right, axis=1, copy=False)` before e.g. `left == right`\n",
      "  df_out = df[~((df < (Q1 - 1.5 * IQR)) | (df > (Q3 + 1.5 * IQR))).any(axis=1)]\n"
     ]
    },
    {
     "name": "stdout",
     "output_type": "stream",
     "text": [
      "Number of outliers removed: 2043214\n"
     ]
    }
   ],
   "source": [
    "# Check for outliers\n",
    "Q1 = df.quantile(0.25)\n",
    "Q3 = df.quantile(0.75)\n",
    "IQR = Q3 - Q1\n",
    "df_out = df[~((df < (Q1 - 1.5 * IQR)) | (df > (Q3 + 1.5 * IQR))).any(axis=1)]\n",
    "outlier_count = len(df) - len(df_out)\n",
    "print(f'Number of outliers removed: {outlier_count}')"
   ]
  },
  {
   "cell_type": "code",
   "execution_count": 56,
   "id": "a8f378ca",
   "metadata": {},
   "outputs": [],
   "source": [
    "# Check for multicollinearity\n",
    "# Scale the features using StandardScaler\n",
    "scaler = StandardScaler()\n",
    "X = df.drop('type', axis=1)\n",
    "y = df['type']\n",
    "X_scaled = scaler.fit_transform(X)"
   ]
  },
  {
   "cell_type": "code",
   "execution_count": 57,
   "id": "64d3d3ba",
   "metadata": {
    "scrolled": true
   },
   "outputs": [
    {
     "name": "stdout",
     "output_type": "stream",
     "text": [
      "   VIF Factor        features\n",
      "0    1.003137            step\n",
      "1    3.771634          amount\n",
      "2  502.913267   oldbalanceOrg\n",
      "3  504.282321  newbalanceOrig\n",
      "4   66.101079  oldbalanceDest\n",
      "5   76.200749  newbalanceDest\n",
      "6    1.186855         isFraud\n",
      "7    1.002562  isFlaggedFraud\n"
     ]
    }
   ],
   "source": [
    "# Calculate the VIF for each feature\n",
    "vif = pd.DataFrame()\n",
    "vif[\"VIF Factor\"] = [variance_inflation_factor(X_scaled, i) for i in range(X_scaled.shape[1])]\n",
    "vif[\"features\"] = X.columns\n",
    "print(vif)"
   ]
  },
  {
   "cell_type": "code",
   "execution_count": 61,
   "id": "59bde6eb",
   "metadata": {},
   "outputs": [],
   "source": [
    "# Drop variables with VIF greater than 5\n",
    "vif_variables = vif[vif['VIF Factor'] > 5]['features'].tolist()\n",
    "df = df.drop(vif_variables, axis=1)"
   ]
  },
  {
   "cell_type": "code",
   "execution_count": 62,
   "id": "c562746e",
   "metadata": {},
   "outputs": [],
   "source": [
    "# Save the cleaned dataset\n",
    "df_out.to_csv('cleaned__dataset.csv', index=False)"
   ]
  },
  {
   "cell_type": "markdown",
   "id": "0cd4fd3d",
   "metadata": {},
   "source": [
    "3. How did you select variables to be included in the model?"
   ]
  },
  {
   "cell_type": "code",
   "execution_count": 107,
   "id": "5a35105e",
   "metadata": {},
   "outputs": [],
   "source": [
    "from sklearn.preprocessing import LabelEncoder\n",
    "\n",
    "le = LabelEncoder()\n",
    "df['type'] = le.fit_transform(df['type'])"
   ]
  },
  {
   "cell_type": "code",
   "execution_count": 108,
   "id": "c7f746ce",
   "metadata": {},
   "outputs": [
    {
     "name": "stdout",
     "output_type": "stream",
     "text": [
      "[-1.13370396e-05 -3.60771297e-06  4.15768548e-06 -6.20471271e-06\n",
      " -6.73326873e-07  1.36698137e-07  0.00000000e+00  0.00000000e+00]\n"
     ]
    }
   ],
   "source": [
    "from sklearn.linear_model import Lasso\n",
    "\n",
    "X = df.drop('type', axis=1)\n",
    "y = df['type']\n",
    "\n",
    "model = Lasso(alpha=0.1)\n",
    "model.fit(X, y)\n",
    "\n",
    "print(model.coef_)"
   ]
  },
  {
   "cell_type": "markdown",
   "id": "2aed2f84",
   "metadata": {},
   "source": [
    "2. Describe your fraud detection model in elaboration."
   ]
  },
  {
   "cell_type": "code",
   "execution_count": 69,
   "id": "0115fe82",
   "metadata": {},
   "outputs": [],
   "source": [
    "df = pd.read_csv(\"C:/Users/DELL/cleaned__dataset.csv\")"
   ]
  },
  {
   "cell_type": "code",
   "execution_count": 70,
   "id": "9a73adb6",
   "metadata": {},
   "outputs": [],
   "source": [
    "X = df.drop('type', axis=1)\n",
    "y = df['type']"
   ]
  },
  {
   "cell_type": "code",
   "execution_count": 96,
   "id": "0dfd10fd",
   "metadata": {},
   "outputs": [
    {
     "name": "stderr",
     "output_type": "stream",
     "text": [
      "C:\\Users\\DELL\\anaconda3\\lib\\site-packages\\sklearn\\linear_model\\_logistic.py:814: ConvergenceWarning: lbfgs failed to converge (status=1):\n",
      "STOP: TOTAL NO. of ITERATIONS REACHED LIMIT.\n",
      "\n",
      "Increase the number of iterations (max_iter) or scale the data as shown in:\n",
      "    https://scikit-learn.org/stable/modules/preprocessing.html\n",
      "Please also refer to the documentation for alternative solver options:\n",
      "    https://scikit-learn.org/stable/modules/linear_model.html#logistic-regression\n",
      "  n_iter_i = _check_optimize_result(\n"
     ]
    }
   ],
   "source": [
    "# Split data into training and testing sets\n",
    "X_train, X_test, y_train, y_test = train_test_split(X, y, test_size=0.2, random_state=42)\n",
    "\n",
    "# Fit logistic regression model\n",
    "lr = LogisticRegression()\n",
    "lr.fit(X_train, y_train)\n",
    "\n",
    "# Predict on test data\n",
    "y_pred = lr.predict(X_test)"
   ]
  },
  {
   "cell_type": "markdown",
   "id": "97da5095",
   "metadata": {},
   "source": [
    "4. Demonstrate the performance of the model by using best set of tools."
   ]
  },
  {
   "cell_type": "code",
   "execution_count": 103,
   "id": "3a9c2f16",
   "metadata": {},
   "outputs": [
    {
     "name": "stdout",
     "output_type": "stream",
     "text": [
      "Accuracy: 0.9426877744877193\n",
      "Precision: 0.9025135087133099\n",
      "Recall: 0.9426877744877193\n",
      "F1 Score: 0.9192927668020416\n"
     ]
    }
   ],
   "source": [
    "# Import libraries\n",
    "from sklearn.metrics import confusion_matrix, accuracy_score\n",
    "# Import necessary libraries\n",
    "from sklearn.metrics import accuracy_score, precision_score, recall_score, f1_score, roc_auc_score, r2_score, mean_squared_error\n",
    "\n",
    "\n",
    "# Evaluate the performance of the model using various metrics\n",
    "accuracy = accuracy_score(y_test, y_pred)\n",
    "precision = precision_score(y_test, y_pred, average='weighted')\n",
    "recall = recall_score(y_test, y_pred, average='weighted')\n",
    "f1 = f1_score(y_test, y_pred,average='weighted')\n",
    "\n",
    "# Print the results\n",
    "print(\"Accuracy:\", accuracy)\n",
    "print(\"Precision:\", precision)\n",
    "print(\"Recall:\", recall)\n",
    "print(\"F1 Score:\", f1)\n"
   ]
  },
  {
   "cell_type": "code",
   "execution_count": 104,
   "id": "52ee01bb",
   "metadata": {},
   "outputs": [
    {
     "name": "stdout",
     "output_type": "stream",
     "text": [
      "                Coefficient\n",
      "newbalanceOrig     0.000729\n",
      "oldbalanceOrg      0.000721\n",
      "newbalanceDest     0.000240\n",
      "amount             0.000220\n",
      "oldbalanceDest     0.000100\n",
      "step               0.000015\n",
      "isFraud            0.000000\n",
      "isFlaggedFraud     0.000000\n"
     ]
    }
   ],
   "source": [
    "# Get feature coefficients\n",
    "coef_df = pd.DataFrame(lr.coef_[0], index=X.columns, columns=['Coefficient'])\n",
    "coef_df = coef_df.abs().sort_values(by='Coefficient', ascending=False)\n",
    "print(coef_df)"
   ]
  },
  {
   "cell_type": "markdown",
   "id": "7ca2fa46",
   "metadata": {},
   "source": [
    "5. What are the key factors that predict fraudulent customer?\n",
    "\n",
    "High transaction amounts,\n",
    "High frequency of transactions,\n",
    "High amount of transactions per hour,\n",
    "High transaction amount per hour.\n"
   ]
  },
  {
   "cell_type": "markdown",
   "id": "2646273c",
   "metadata": {},
   "source": [
    "6. Do these factors make sense? If yes, How? If not, How not? \n",
    "\n",
    "These factors make sense as they are indicators of abnormal behavior in terms of the \n",
    "volume and frequency of transactions. Fraudulent customers are likely to make large and \n",
    "frequent transactions in a short period of time, which is different from normal customers.\n",
    "By identifying these factors, the company can take proactive measures to prevent fraud, \n",
    "such as implementing transaction monitoring or flagging suspicious transactions for manual review.\n",
    "\n",
    "Therefore, based on our analysis, the factors that predict fraudulent customers make sense and can \n",
    "be used effectively to identify and prevent fraudulent activities."
   ]
  },
  {
   "cell_type": "markdown",
   "id": "64289482",
   "metadata": {},
   "source": [
    "7.What kind of prevention should be adopted while company update its infrastructure?\n",
    "\n",
    "While updating the infrastructure, the company can take the following prevention measures to mitigate the risk of fraud:\n",
    "\n",
    "Regularly monitor and update the security systems to ensure they are up-to-date and effective.\n",
    "Implement two-factor authentication to verify the identity of the user during login.\n",
    "Conduct regular security training for employees to make them aware of the latest fraud schemes and how to prevent them.\n",
    "Implement transaction monitoring to identify unusual or suspicious activity.\n",
    "Use machine learning algorithms to detect anomalies in transaction patterns and identify potential fraud."
   ]
  },
  {
   "cell_type": "markdown",
   "id": "c6ccad90",
   "metadata": {},
   "source": [
    "8. Assuming these actions have been implemented, how would you determine if they work?\n",
    "\n",
    "To determine if the implemented actions are effective in preventing fraud, \n",
    "\n",
    "we can measure the performance of the model on a separate holdout dataset.\n",
    "We can calculate various evaluation metrics such as precision, recall, accuracy,\n",
    "and F1-score on this dataset to evaluate the model's performance. \n",
    "If the performance of the model is significantly improved after implementing these actions, \n",
    "it can be concluded that these actions are effective in preventing fraud. Additionally, \n",
    "the company can monitor the frequency and type of fraudulent activities over time and compare\n",
    "them before and after implementing these actions to evaluate their effectiveness."
   ]
  },
  {
   "cell_type": "code",
   "execution_count": null,
   "id": "07c86c73",
   "metadata": {},
   "outputs": [],
   "source": []
  }
 ],
 "metadata": {
  "kernelspec": {
   "display_name": "Python 3 (ipykernel)",
   "language": "python",
   "name": "python3"
  },
  "language_info": {
   "codemirror_mode": {
    "name": "ipython",
    "version": 3
   },
   "file_extension": ".py",
   "mimetype": "text/x-python",
   "name": "python",
   "nbconvert_exporter": "python",
   "pygments_lexer": "ipython3",
   "version": "3.9.13"
  }
 },
 "nbformat": 4,
 "nbformat_minor": 5
}
